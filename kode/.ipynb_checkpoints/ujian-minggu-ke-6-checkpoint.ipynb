{
 "cells": [
  {
   "cell_type": "code",
   "execution_count": 1,
   "id": "c1a262c9",
   "metadata": {},
   "outputs": [],
   "source": [
    "# Ujian Minggu 6\n",
    "## Soal\n",
    "### Implementasikan algoritma regression, Anda bisa memperoleh dataset di Kaggle.\n",
    "### Setelah ujicoba dan melakukan evaluasi, buatlah User Interface (UI) dengan Gradio."
   ]
  },
  {
   "cell_type": "code",
   "execution_count": 2,
   "id": "43ea7ad1",
   "metadata": {},
   "outputs": [
    {
     "data": {
      "text/html": [
       "<div>\n",
       "<style scoped>\n",
       "    .dataframe tbody tr th:only-of-type {\n",
       "        vertical-align: middle;\n",
       "    }\n",
       "\n",
       "    .dataframe tbody tr th {\n",
       "        vertical-align: top;\n",
       "    }\n",
       "\n",
       "    .dataframe thead th {\n",
       "        text-align: right;\n",
       "    }\n",
       "</style>\n",
       "<table border=\"1\" class=\"dataframe\">\n",
       "  <thead>\n",
       "    <tr style=\"text-align: right;\">\n",
       "      <th></th>\n",
       "      <th>age</th>\n",
       "      <th>sex</th>\n",
       "      <th>bmi</th>\n",
       "      <th>children</th>\n",
       "      <th>smoker</th>\n",
       "      <th>region</th>\n",
       "      <th>charges</th>\n",
       "    </tr>\n",
       "  </thead>\n",
       "  <tbody>\n",
       "    <tr>\n",
       "      <th>0</th>\n",
       "      <td>19</td>\n",
       "      <td>female</td>\n",
       "      <td>27.900</td>\n",
       "      <td>0</td>\n",
       "      <td>yes</td>\n",
       "      <td>southwest</td>\n",
       "      <td>16884.92400</td>\n",
       "    </tr>\n",
       "    <tr>\n",
       "      <th>1</th>\n",
       "      <td>18</td>\n",
       "      <td>male</td>\n",
       "      <td>33.770</td>\n",
       "      <td>1</td>\n",
       "      <td>no</td>\n",
       "      <td>southeast</td>\n",
       "      <td>1725.55230</td>\n",
       "    </tr>\n",
       "    <tr>\n",
       "      <th>2</th>\n",
       "      <td>28</td>\n",
       "      <td>male</td>\n",
       "      <td>33.000</td>\n",
       "      <td>3</td>\n",
       "      <td>no</td>\n",
       "      <td>southeast</td>\n",
       "      <td>4449.46200</td>\n",
       "    </tr>\n",
       "    <tr>\n",
       "      <th>3</th>\n",
       "      <td>33</td>\n",
       "      <td>male</td>\n",
       "      <td>22.705</td>\n",
       "      <td>0</td>\n",
       "      <td>no</td>\n",
       "      <td>northwest</td>\n",
       "      <td>21984.47061</td>\n",
       "    </tr>\n",
       "    <tr>\n",
       "      <th>4</th>\n",
       "      <td>32</td>\n",
       "      <td>male</td>\n",
       "      <td>28.880</td>\n",
       "      <td>0</td>\n",
       "      <td>no</td>\n",
       "      <td>northwest</td>\n",
       "      <td>3866.85520</td>\n",
       "    </tr>\n",
       "    <tr>\n",
       "      <th>...</th>\n",
       "      <td>...</td>\n",
       "      <td>...</td>\n",
       "      <td>...</td>\n",
       "      <td>...</td>\n",
       "      <td>...</td>\n",
       "      <td>...</td>\n",
       "      <td>...</td>\n",
       "    </tr>\n",
       "    <tr>\n",
       "      <th>1333</th>\n",
       "      <td>50</td>\n",
       "      <td>male</td>\n",
       "      <td>30.970</td>\n",
       "      <td>3</td>\n",
       "      <td>no</td>\n",
       "      <td>northwest</td>\n",
       "      <td>10600.54830</td>\n",
       "    </tr>\n",
       "    <tr>\n",
       "      <th>1334</th>\n",
       "      <td>18</td>\n",
       "      <td>female</td>\n",
       "      <td>31.920</td>\n",
       "      <td>0</td>\n",
       "      <td>no</td>\n",
       "      <td>northeast</td>\n",
       "      <td>2205.98080</td>\n",
       "    </tr>\n",
       "    <tr>\n",
       "      <th>1335</th>\n",
       "      <td>18</td>\n",
       "      <td>female</td>\n",
       "      <td>36.850</td>\n",
       "      <td>0</td>\n",
       "      <td>no</td>\n",
       "      <td>southeast</td>\n",
       "      <td>1629.83350</td>\n",
       "    </tr>\n",
       "    <tr>\n",
       "      <th>1336</th>\n",
       "      <td>21</td>\n",
       "      <td>female</td>\n",
       "      <td>25.800</td>\n",
       "      <td>0</td>\n",
       "      <td>no</td>\n",
       "      <td>southwest</td>\n",
       "      <td>2007.94500</td>\n",
       "    </tr>\n",
       "    <tr>\n",
       "      <th>1337</th>\n",
       "      <td>61</td>\n",
       "      <td>female</td>\n",
       "      <td>29.070</td>\n",
       "      <td>0</td>\n",
       "      <td>yes</td>\n",
       "      <td>northwest</td>\n",
       "      <td>29141.36030</td>\n",
       "    </tr>\n",
       "  </tbody>\n",
       "</table>\n",
       "<p>1338 rows × 7 columns</p>\n",
       "</div>"
      ],
      "text/plain": [
       "      age     sex     bmi  children smoker     region      charges\n",
       "0      19  female  27.900         0    yes  southwest  16884.92400\n",
       "1      18    male  33.770         1     no  southeast   1725.55230\n",
       "2      28    male  33.000         3     no  southeast   4449.46200\n",
       "3      33    male  22.705         0     no  northwest  21984.47061\n",
       "4      32    male  28.880         0     no  northwest   3866.85520\n",
       "...   ...     ...     ...       ...    ...        ...          ...\n",
       "1333   50    male  30.970         3     no  northwest  10600.54830\n",
       "1334   18  female  31.920         0     no  northeast   2205.98080\n",
       "1335   18  female  36.850         0     no  southeast   1629.83350\n",
       "1336   21  female  25.800         0     no  southwest   2007.94500\n",
       "1337   61  female  29.070         0    yes  northwest  29141.36030\n",
       "\n",
       "[1338 rows x 7 columns]"
      ]
     },
     "execution_count": 2,
     "metadata": {},
     "output_type": "execute_result"
    }
   ],
   "source": [
    "# Dataset: Medical Cost Personal Datasets\n",
    "# Ujian Mingguan ke-6\n",
    "# Prajudi William Chrisdeardo\n",
    "# Willi Sianturi\n",
    "# Link Dataset: https://www.kaggle.com/datasets/mirichoi0218/insurance\n",
    "\n",
    "# Import library yang dibutuhkan.\n",
    "import pandas as pd\n",
    "import numpy as np\n",
    "import matplotlib.pyplot as plt\n",
    "import seaborn as sns\n",
    "\n",
    "# Membuat DataFrame\n",
    "df = pd.read_csv('D:/myproject/ujian-minggu-6/dataset/insurance.csv')\n",
    "df"
   ]
  },
  {
   "cell_type": "code",
   "execution_count": 3,
   "id": "1dd65278",
   "metadata": {},
   "outputs": [
    {
     "name": "stdout",
     "output_type": "stream",
     "text": [
      "<class 'pandas.core.frame.DataFrame'>\n",
      "RangeIndex: 1338 entries, 0 to 1337\n",
      "Data columns (total 7 columns):\n",
      " #   Column    Non-Null Count  Dtype  \n",
      "---  ------    --------------  -----  \n",
      " 0   age       1338 non-null   int64  \n",
      " 1   sex       1338 non-null   object \n",
      " 2   bmi       1338 non-null   float64\n",
      " 3   children  1338 non-null   int64  \n",
      " 4   smoker    1338 non-null   object \n",
      " 5   region    1338 non-null   object \n",
      " 6   charges   1338 non-null   float64\n",
      "dtypes: float64(2), int64(2), object(3)\n",
      "memory usage: 73.3+ KB\n"
     ]
    }
   ],
   "source": [
    "df.info()"
   ]
  },
  {
   "cell_type": "code",
   "execution_count": 4,
   "id": "8ad0c0b3",
   "metadata": {},
   "outputs": [
    {
     "data": {
      "text/html": [
       "<div>\n",
       "<style scoped>\n",
       "    .dataframe tbody tr th:only-of-type {\n",
       "        vertical-align: middle;\n",
       "    }\n",
       "\n",
       "    .dataframe tbody tr th {\n",
       "        vertical-align: top;\n",
       "    }\n",
       "\n",
       "    .dataframe thead th {\n",
       "        text-align: right;\n",
       "    }\n",
       "</style>\n",
       "<table border=\"1\" class=\"dataframe\">\n",
       "  <thead>\n",
       "    <tr style=\"text-align: right;\">\n",
       "      <th></th>\n",
       "      <th>age</th>\n",
       "      <th>bmi</th>\n",
       "      <th>children</th>\n",
       "      <th>charges</th>\n",
       "    </tr>\n",
       "  </thead>\n",
       "  <tbody>\n",
       "    <tr>\n",
       "      <th>age</th>\n",
       "      <td>1.000000</td>\n",
       "      <td>0.109272</td>\n",
       "      <td>0.042469</td>\n",
       "      <td>0.299008</td>\n",
       "    </tr>\n",
       "    <tr>\n",
       "      <th>bmi</th>\n",
       "      <td>0.109272</td>\n",
       "      <td>1.000000</td>\n",
       "      <td>0.012759</td>\n",
       "      <td>0.198341</td>\n",
       "    </tr>\n",
       "    <tr>\n",
       "      <th>children</th>\n",
       "      <td>0.042469</td>\n",
       "      <td>0.012759</td>\n",
       "      <td>1.000000</td>\n",
       "      <td>0.067998</td>\n",
       "    </tr>\n",
       "    <tr>\n",
       "      <th>charges</th>\n",
       "      <td>0.299008</td>\n",
       "      <td>0.198341</td>\n",
       "      <td>0.067998</td>\n",
       "      <td>1.000000</td>\n",
       "    </tr>\n",
       "  </tbody>\n",
       "</table>\n",
       "</div>"
      ],
      "text/plain": [
       "               age       bmi  children   charges\n",
       "age       1.000000  0.109272  0.042469  0.299008\n",
       "bmi       0.109272  1.000000  0.012759  0.198341\n",
       "children  0.042469  0.012759  1.000000  0.067998\n",
       "charges   0.299008  0.198341  0.067998  1.000000"
      ]
     },
     "execution_count": 4,
     "metadata": {},
     "output_type": "execute_result"
    }
   ],
   "source": [
    "df.corr()"
   ]
  },
  {
   "cell_type": "code",
   "execution_count": 5,
   "id": "a2782f3f",
   "metadata": {},
   "outputs": [],
   "source": [
    "## Data Cleansing (Pembersihan Data)\n",
    "### Untuk data cleansing, datanya sudah aman dan bersih, tidak ada keterangan NaN."
   ]
  },
  {
   "cell_type": "code",
   "execution_count": 6,
   "id": "175b5550",
   "metadata": {},
   "outputs": [
    {
     "data": {
      "text/plain": [
       "<AxesSubplot:>"
      ]
     },
     "execution_count": 6,
     "metadata": {},
     "output_type": "execute_result"
    },
    {
     "data": {
      "image/png": "[encoded data removed]",
      "text/plain": [
       "<Figure size 432x288 with 2 Axes>"
      ]
     },
     "metadata": {
      "needs_background": "light"
     },
     "output_type": "display_data"
    }
   ],
   "source": [
    "## Membuat Korelasi\n",
    "### Heatmap\n",
    "sns.heatmap(df.corr(), square=True, cmap=\"RdYlGn\")"
   ]
  },
  {
   "cell_type": "code",
   "execution_count": 7,
   "id": "05ac6dcc",
   "metadata": {},
   "outputs": [
    {
     "data": {
      "text/plain": [
       "<seaborn.axisgrid.FacetGrid at 0x1acfd2cb6a0>"
      ]
     },
     "execution_count": 7,
     "metadata": {},
     "output_type": "execute_result"
    },
    {
     "data": {
      "image/png": "[encoded data removed]",
      "text/plain": [
       "<Figure size 360x360 with 1 Axes>"
      ]
     },
     "metadata": {
      "needs_background": "light"
     },
     "output_type": "display_data"
    }
   ],
   "source": [
    "sns.lmplot(x=\"age\", y=\"charges\", data=df)"
   ]
  },
  {
   "cell_type": "code",
   "execution_count": 8,
   "id": "6c35d4a9",
   "metadata": {},
   "outputs": [
    {
     "data": {
      "text/plain": [
       "<seaborn.axisgrid.FacetGrid at 0x1acfd2c8b80>"
      ]
     },
     "execution_count": 8,
     "metadata": {},
     "output_type": "execute_result"
    },
    {
     "data": {
      "image/png": "[encoded data removed]",
      "text/plain": [
       "<Figure size 360x360 with 1 Axes>"
      ]
     },
     "metadata": {
      "needs_background": "light"
     },
     "output_type": "display_data"
    }
   ],
   "source": [
    "sns.lmplot(x=\"bmi\", y=\"charges\", data=df)"
   ]
  },
  {
   "cell_type": "code",
   "execution_count": 9,
   "id": "521fb693",
   "metadata": {},
   "outputs": [
    {
     "data": {
      "text/plain": [
       "<seaborn.axisgrid.FacetGrid at 0x1ac90551870>"
      ]
     },
     "execution_count": 9,
     "metadata": {},
     "output_type": "execute_result"
    },
    {
     "data": {
      "image/png": "[encoded data removed]",
      "text/plain": [
       "<Figure size 360x360 with 1 Axes>"
      ]
     },
     "metadata": {
      "needs_background": "light"
     },
     "output_type": "display_data"
    }
   ],
   "source": [
    "sns.lmplot(x=\"children\", y=\"charges\", data=df)"
   ]
  },
  {
   "cell_type": "code",
   "execution_count": 10,
   "id": "7b8ad8e0",
   "metadata": {},
   "outputs": [],
   "source": [
    "## Proses Training untuk Membuat Model\n",
    "# Mempersiapkan data\n",
    "X = df[['age', 'bmi', 'children']]\n",
    "y = df[['charges']]"
   ]
  },
  {
   "cell_type": "code",
   "execution_count": 11,
   "id": "1d98b126",
   "metadata": {},
   "outputs": [],
   "source": [
    "from sklearn.model_selection import train_test_split\n",
    "\n",
    "X_train, X_test, y_train, y_test = train_test_split(X, y, test_size=0.3, random_state=10)"
   ]
  },
  {
   "cell_type": "code",
   "execution_count": 12,
   "id": "449fac2f",
   "metadata": {},
   "outputs": [
    {
     "data": {
      "text/plain": [
       "LinearRegression()"
      ]
     },
     "execution_count": 12,
     "metadata": {},
     "output_type": "execute_result"
    }
   ],
   "source": [
    "from sklearn.linear_model import LinearRegression\n",
    "regressor = LinearRegression()\n",
    "regressor.fit(X_train, y_train)"
   ]
  },
  {
   "cell_type": "code",
   "execution_count": 13,
   "id": "7a4b3deb",
   "metadata": {},
   "outputs": [
    {
     "data": {
      "text/plain": [
       "(array([[256.08249356, 343.69808775, 399.59305598]]), array([-7621.27459713]))"
      ]
     },
     "execution_count": 13,
     "metadata": {},
     "output_type": "execute_result"
    }
   ],
   "source": [
    "regressor.coef_, regressor.intercept_"
   ]
  },
  {
   "cell_type": "code",
   "execution_count": 14,
   "id": "8fc6598e",
   "metadata": {},
   "outputs": [
    {
     "name": "stdout",
     "output_type": "stream",
     "text": [
      "53.51277047\n"
     ]
    }
   ],
   "source": [
    "x = 14\n",
    "y = -0.01169536 * x + 53.67650551\n",
    "print(y)"
   ]
  },
  {
   "cell_type": "code",
   "execution_count": 15,
   "id": "09555a9d",
   "metadata": {},
   "outputs": [
    {
     "data": {
      "text/html": [
       "<div>\n",
       "<style scoped>\n",
       "    .dataframe tbody tr th:only-of-type {\n",
       "        vertical-align: middle;\n",
       "    }\n",
       "\n",
       "    .dataframe tbody tr th {\n",
       "        vertical-align: top;\n",
       "    }\n",
       "\n",
       "    .dataframe thead th {\n",
       "        text-align: right;\n",
       "    }\n",
       "</style>\n",
       "<table border=\"1\" class=\"dataframe\">\n",
       "  <thead>\n",
       "    <tr style=\"text-align: right;\">\n",
       "      <th></th>\n",
       "      <th>age</th>\n",
       "      <th>bmi</th>\n",
       "      <th>children</th>\n",
       "    </tr>\n",
       "  </thead>\n",
       "  <tbody>\n",
       "    <tr>\n",
       "      <th>7</th>\n",
       "      <td>37</td>\n",
       "      <td>27.740</td>\n",
       "      <td>3</td>\n",
       "    </tr>\n",
       "    <tr>\n",
       "      <th>999</th>\n",
       "      <td>36</td>\n",
       "      <td>26.885</td>\n",
       "      <td>0</td>\n",
       "    </tr>\n",
       "    <tr>\n",
       "      <th>1209</th>\n",
       "      <td>59</td>\n",
       "      <td>37.100</td>\n",
       "      <td>1</td>\n",
       "    </tr>\n",
       "    <tr>\n",
       "      <th>491</th>\n",
       "      <td>61</td>\n",
       "      <td>25.080</td>\n",
       "      <td>0</td>\n",
       "    </tr>\n",
       "    <tr>\n",
       "      <th>625</th>\n",
       "      <td>29</td>\n",
       "      <td>26.030</td>\n",
       "      <td>0</td>\n",
       "    </tr>\n",
       "    <tr>\n",
       "      <th>...</th>\n",
       "      <td>...</td>\n",
       "      <td>...</td>\n",
       "      <td>...</td>\n",
       "    </tr>\n",
       "    <tr>\n",
       "      <th>854</th>\n",
       "      <td>49</td>\n",
       "      <td>23.845</td>\n",
       "      <td>3</td>\n",
       "    </tr>\n",
       "    <tr>\n",
       "      <th>554</th>\n",
       "      <td>25</td>\n",
       "      <td>41.325</td>\n",
       "      <td>0</td>\n",
       "    </tr>\n",
       "    <tr>\n",
       "      <th>1278</th>\n",
       "      <td>39</td>\n",
       "      <td>29.925</td>\n",
       "      <td>1</td>\n",
       "    </tr>\n",
       "    <tr>\n",
       "      <th>374</th>\n",
       "      <td>20</td>\n",
       "      <td>33.330</td>\n",
       "      <td>0</td>\n",
       "    </tr>\n",
       "    <tr>\n",
       "      <th>6</th>\n",
       "      <td>46</td>\n",
       "      <td>33.440</td>\n",
       "      <td>1</td>\n",
       "    </tr>\n",
       "  </tbody>\n",
       "</table>\n",
       "<p>402 rows × 3 columns</p>\n",
       "</div>"
      ],
      "text/plain": [
       "      age     bmi  children\n",
       "7      37  27.740         3\n",
       "999    36  26.885         0\n",
       "1209   59  37.100         1\n",
       "491    61  25.080         0\n",
       "625    29  26.030         0\n",
       "...   ...     ...       ...\n",
       "854    49  23.845         3\n",
       "554    25  41.325         0\n",
       "1278   39  29.925         1\n",
       "374    20  33.330         0\n",
       "6      46  33.440         1\n",
       "\n",
       "[402 rows x 3 columns]"
      ]
     },
     "execution_count": 15,
     "metadata": {},
     "output_type": "execute_result"
    }
   ],
   "source": [
    "X_test"
   ]
  },
  {
   "cell_type": "code",
   "execution_count": 16,
   "id": "51d53a67",
   "metadata": {},
   "outputs": [
    {
     "data": {
      "text/plain": [
       "array([[12586.74178667],\n",
       "       [10838.01826014],\n",
       "       [20638.38463436],\n",
       "       [16619.70555078],\n",
       "       [ 8751.57894019],\n",
       "       [14150.58970072],\n",
       "       [14255.70340615],\n",
       "       [ 7124.82500519],\n",
       "       [12687.42137569],\n",
       "       [11078.88690684],\n",
       "       [ 6718.4734636 ],\n",
       "       [ 8930.21969125],\n",
       "       [12336.73385004],\n",
       "       [15472.19690606],\n",
       "       [17412.47648077],\n",
       "       [16004.45855553],\n",
       "       [10862.67880039],\n",
       "       [23389.88555748],\n",
       "       [16067.933029  ],\n",
       "       [11629.42713615],\n",
       "       [14820.8832264 ],\n",
       "       [ 9325.28056482],\n",
       "       [ 6032.62546602],\n",
       "       [11880.38157659],\n",
       "       [ 9459.65764071],\n",
       "       [18262.52757383],\n",
       "       [17196.74028692],\n",
       "       [14785.15716704],\n",
       "       [11590.53094836],\n",
       "       [12492.19159096],\n",
       "       [ 4049.51491791],\n",
       "       [15297.67126117],\n",
       "       [14828.59982258],\n",
       "       [12053.29840379],\n",
       "       [13588.31430898],\n",
       "       [17036.67391241],\n",
       "       [18573.65659781],\n",
       "       [18308.73488835],\n",
       "       [14586.42976167],\n",
       "       [13862.86883578],\n",
       "       [21177.19703068],\n",
       "       [14699.93818858],\n",
       "       [10478.85375844],\n",
       "       [16184.46136056],\n",
       "       [11127.94961687],\n",
       "       [12531.79912563],\n",
       "       [11409.76196008],\n",
       "       [14655.91394766],\n",
       "       [15976.93529032],\n",
       "       [15535.20099299],\n",
       "       [13361.30906193],\n",
       "       [10928.87890787],\n",
       "       [15884.65622616],\n",
       "       [18968.88778392],\n",
       "       [16726.03261247],\n",
       "       [18850.30614026],\n",
       "       [16673.63526487],\n",
       "       [13164.09393432],\n",
       "       [13176.20562196],\n",
       "       [15779.86153097],\n",
       "       [ 5738.763601  ],\n",
       "       [14524.62474564],\n",
       "       [17784.89690462],\n",
       "       [ 7237.39693633],\n",
       "       [ 8762.00535896],\n",
       "       [15278.84431753],\n",
       "       [10824.16646725],\n",
       "       [14191.01825501],\n",
       "       [13497.64558857],\n",
       "       [13097.31957092],\n",
       "       [12010.22066668],\n",
       "       [ 7709.05691798],\n",
       "       [13007.79355896],\n",
       "       [14522.65949149],\n",
       "       [14085.424155  ],\n",
       "       [17186.56643524],\n",
       "       [11881.14195645],\n",
       "       [16160.34765803],\n",
       "       [ 4264.32622276],\n",
       "       [17269.90241412],\n",
       "       [15986.24489276],\n",
       "       [18201.34584671],\n",
       "       [ 7563.07328864],\n",
       "       [ 7669.7784016 ],\n",
       "       [14388.04298136],\n",
       "       [ 9719.91007682],\n",
       "       [ 8443.66755156],\n",
       "       [ 8945.52159605],\n",
       "       [14050.75274614],\n",
       "       [13692.8753733 ],\n",
       "       [13445.13276484],\n",
       "       [14337.11155711],\n",
       "       [13879.29336031],\n",
       "       [19012.99275333],\n",
       "       [19097.82359982],\n",
       "       [11799.44801683],\n",
       "       [12066.03338035],\n",
       "       [19414.60009646],\n",
       "       [12223.99740976],\n",
       "       [16174.58910896],\n",
       "       [13040.4448773 ],\n",
       "       [ 7338.67819946],\n",
       "       [ 7393.8950424 ],\n",
       "       [11483.08707034],\n",
       "       [14996.27892391],\n",
       "       [15190.49576167],\n",
       "       [12493.99233597],\n",
       "       [10372.94224692],\n",
       "       [10653.58293743],\n",
       "       [ 8993.13731895],\n",
       "       [15372.71058456],\n",
       "       [13238.86487919],\n",
       "       [11916.25053028],\n",
       "       [ 7170.29355465],\n",
       "       [11693.57973492],\n",
       "       [11836.52764819],\n",
       "       [10773.48180671],\n",
       "       [16450.0669987 ],\n",
       "       [10856.22191487],\n",
       "       [ 8167.27057621],\n",
       "       [14262.21512805],\n",
       "       [16311.82158035],\n",
       "       [11589.16889439],\n",
       "       [10674.26814104],\n",
       "       [20572.28839625],\n",
       "       [10251.65658406],\n",
       "       [18724.77408366],\n",
       "       [14349.69363129],\n",
       "       [12439.67876723],\n",
       "       [16637.73889299],\n",
       "       [16524.99664932],\n",
       "       [17291.66273052],\n",
       "       [ 7998.71561888],\n",
       "       [15855.58478304],\n",
       "       [16786.62274617],\n",
       "       [11036.57535298],\n",
       "       [17025.95902639],\n",
       "       [17276.7431543 ],\n",
       "       [10391.86725655],\n",
       "       [10202.16098639],\n",
       "       [12965.65231762],\n",
       "       [12390.06769341],\n",
       "       [19212.94084441],\n",
       "       [ 9747.40592384],\n",
       "       [ 9119.28686108],\n",
       "       [11143.72343429],\n",
       "       [19214.46160413],\n",
       "       [14844.1484911 ],\n",
       "       [17624.72085735],\n",
       "       [ 8042.55953924],\n",
       "       [12564.83277255],\n",
       "       [ 8814.57301908],\n",
       "       [ 7692.71464803],\n",
       "       [19259.33428287],\n",
       "       [18158.49906189],\n",
       "       [ 9804.71197904],\n",
       "       [19807.47789644],\n",
       "       [ 4965.44290357],\n",
       "       [19715.50623576],\n",
       "       [16934.07962831],\n",
       "       [16129.93577574],\n",
       "       [12673.00961224],\n",
       "       [12792.05736512],\n",
       "       [17338.88299199],\n",
       "       [10257.77016595],\n",
       "       [21457.22871763],\n",
       "       [15678.32770076],\n",
       "       [15771.69463698],\n",
       "       [ 7687.53175852],\n",
       "       [15633.154948  ],\n",
       "       [16939.97386468],\n",
       "       [15394.0163985 ],\n",
       "       [12395.84645364],\n",
       "       [17364.82333164],\n",
       "       [10580.2779159 ],\n",
       "       [13110.8755671 ],\n",
       "       [ 5491.57515972],\n",
       "       [16466.35443227],\n",
       "       [15161.14433327],\n",
       "       [21123.73189975],\n",
       "       [20412.49620364],\n",
       "       [15884.10938844],\n",
       "       [10539.79452524],\n",
       "       [11770.66504095],\n",
       "       [ 9204.98623411],\n",
       "       [12699.82733396],\n",
       "       [17221.06753158],\n",
       "       [15121.07221545],\n",
       "       [11000.67898109],\n",
       "       [ 7232.37855597],\n",
       "       [13705.82969537],\n",
       "       [14137.77827298],\n",
       "       [12064.91656402],\n",
       "       [14135.97172459],\n",
       "       [18363.84786192],\n",
       "       [16590.299286  ],\n",
       "       [ 5206.08640137],\n",
       "       [ 7559.03463366],\n",
       "       [15248.35018067],\n",
       "       [11777.29956845],\n",
       "       [11131.88012516],\n",
       "       [ 5151.03987095],\n",
       "       [20835.14098219],\n",
       "       [19044.82885543],\n",
       "       [ 8632.70149983],\n",
       "       [18520.08179412],\n",
       "       [ 8989.69453469],\n",
       "       [19820.47124347],\n",
       "       [13592.70940043],\n",
       "       [10385.67142009],\n",
       "       [15340.81964609],\n",
       "       [13335.83910882],\n",
       "       [14230.40644415],\n",
       "       [14344.7791203 ],\n",
       "       [13041.04074802],\n",
       "       [10826.64533755],\n",
       "       [15060.45894086],\n",
       "       [ 6241.68542882],\n",
       "       [19019.57244445],\n",
       "       [17815.66522338],\n",
       "       [12358.04546737],\n",
       "       [11948.92926681],\n",
       "       [ 5608.15832766],\n",
       "       [19306.53292953],\n",
       "       [ 5733.69038425],\n",
       "       [ 6791.3830237 ],\n",
       "       [18527.15348659],\n",
       "       [10144.97308591],\n",
       "       [13147.88875531],\n",
       "       [10334.23218307],\n",
       "       [11678.52459382],\n",
       "       [ 6970.94866376],\n",
       "       [12532.54369407],\n",
       "       [11552.61448595],\n",
       "       [16944.30831637],\n",
       "       [ 9985.31798425],\n",
       "       [15574.86336403],\n",
       "       [18046.10745131],\n",
       "       [ 4133.69353122],\n",
       "       [20204.25726046],\n",
       "       [15357.32642518],\n",
       "       [ 9088.3482298 ],\n",
       "       [15877.09833573],\n",
       "       [13876.39741377],\n",
       "       [16977.94516348],\n",
       "       [ 8131.97007505],\n",
       "       [18552.87020341],\n",
       "       [13660.38123465],\n",
       "       [17845.07148817],\n",
       "       [ 5364.21493992],\n",
       "       [15428.73531429],\n",
       "       [17131.8705379 ],\n",
       "       [14681.38970416],\n",
       "       [10602.58507003],\n",
       "       [15284.82661186],\n",
       "       [17083.48442711],\n",
       "       [13992.63147469],\n",
       "       [10936.82065296],\n",
       "       [ 5110.01544594],\n",
       "       [21423.48800115],\n",
       "       [ 8528.23582292],\n",
       "       [14920.89049351],\n",
       "       [14409.17848277],\n",
       "       [17736.51079382],\n",
       "       [12848.37789156],\n",
       "       [ 7414.40725491],\n",
       "       [21048.14573864],\n",
       "       [16296.19646065],\n",
       "       [ 9455.88583817],\n",
       "       [15018.67413599],\n",
       "       [ 7338.67819946],\n",
       "       [ 8708.31507913],\n",
       "       [16083.31718838],\n",
       "       [16211.98462576],\n",
       "       [15973.93547441],\n",
       "       [ 8249.67005932],\n",
       "       [ 9763.63271765],\n",
       "       [ 6567.24050161],\n",
       "       [14878.51829988],\n",
       "       [16853.03639579],\n",
       "       [ 2473.63176741],\n",
       "       [ 7715.10986011],\n",
       "       [18155.08369582],\n",
       "       [13964.34202624],\n",
       "       [12570.59144404],\n",
       "       [ 6067.92596718],\n",
       "       [ 9183.05713126],\n",
       "       [14743.4414839 ],\n",
       "       [10164.45806611],\n",
       "       [ 8014.09977826],\n",
       "       [11853.0286239 ],\n",
       "       [ 9957.19884831],\n",
       "       [12193.04296706],\n",
       "       [11487.44894022],\n",
       "       [ 5640.80964599],\n",
       "       [ 7626.04995739],\n",
       "       [10417.84234385],\n",
       "       [18076.66222793],\n",
       "       [12280.73501243],\n",
       "       [19719.08030759],\n",
       "       [17009.63837124],\n",
       "       [13621.15755464],\n",
       "       [ 5015.30654448],\n",
       "       [ 7381.16006585],\n",
       "       [16642.75727335],\n",
       "       [15905.38778419],\n",
       "       [20784.62663417],\n",
       "       [15431.76835177],\n",
       "       [15868.5449085 ],\n",
       "       [14993.80005361],\n",
       "       [12285.10268569],\n",
       "       [13661.93674201],\n",
       "       [12918.43205615],\n",
       "       [ 7392.1159122 ],\n",
       "       [18618.0689707 ],\n",
       "       [17991.06092089],\n",
       "       [19371.72589345],\n",
       "       [14227.46299069],\n",
       "       [14832.07582842],\n",
       "       [19585.76521166],\n",
       "       [16732.52271956],\n",
       "       [11595.92738   ],\n",
       "       [15311.01524129],\n",
       "       [14159.4131052 ],\n",
       "       [ 6329.30102301],\n",
       "       [14929.09328766],\n",
       "       [ 9158.7789196 ],\n",
       "       [18008.32807985],\n",
       "       [13277.13197469],\n",
       "       [ 8821.73544809],\n",
       "       [14693.82460669],\n",
       "       [18709.38992428],\n",
       "       [15063.2842396 ],\n",
       "       [ 9969.8025373 ],\n",
       "       [10434.82951752],\n",
       "       [16633.34380153],\n",
       "       [16159.7792055 ],\n",
       "       [ 8826.97897736],\n",
       "       [12805.58594311],\n",
       "       [14760.11277213],\n",
       "       [20118.52466585],\n",
       "       [ 6654.88351398],\n",
       "       [14538.80983412],\n",
       "       [17647.28057858],\n",
       "       [14280.32492144],\n",
       "       [20231.02594919],\n",
       "       [17256.06643265],\n",
       "       [13706.12976939],\n",
       "       [14309.83505561],\n",
       "       [14994.25883338],\n",
       "       [10933.49914823],\n",
       "       [12340.91539936],\n",
       "       [ 3637.07721262],\n",
       "       [ 7012.1650161 ],\n",
       "       [22626.81516292],\n",
       "       [13701.89918707],\n",
       "       [11841.26604327],\n",
       "       [12475.88254258],\n",
       "       [ 8383.52038621],\n",
       "       [10114.21057054],\n",
       "       [19760.94736703],\n",
       "       [14735.83456047],\n",
       "       [ 8635.41132241],\n",
       "       [11805.52837714],\n",
       "       [10562.18973732],\n",
       "       [ 7587.45536968],\n",
       "       [ 6883.33306957],\n",
       "       [19319.50886641],\n",
       "       [ 9748.13888551],\n",
       "       [10633.21629784],\n",
       "       [14552.9141941 ],\n",
       "       [13144.64370177],\n",
       "       [10248.19218499],\n",
       "       [11822.98746343],\n",
       "       [ 9630.68566496],\n",
       "       [17059.55684853],\n",
       "       [11681.64416318],\n",
       "       [12936.30088922],\n",
       "       [14252.36449127],\n",
       "       [11172.01288274],\n",
       "       [11241.973186  ],\n",
       "       [15674.94555626],\n",
       "       [ 9390.1576433 ],\n",
       "       [13876.47386496],\n",
       "       [10672.1731254 ],\n",
       "       [15956.42307781],\n",
       "       [ 7229.68034015],\n",
       "       [16379.94371237],\n",
       "       [12459.23867254],\n",
       "       [ 7404.91152852],\n",
       "       [18632.87887417],\n",
       "       [15877.86451898],\n",
       "       [16237.76778573],\n",
       "       [10754.85259379],\n",
       "       [15337.38846859],\n",
       "       [22257.09875827],\n",
       "       [14968.7556587 ],\n",
       "       [14321.02765763],\n",
       "       [12984.11121803],\n",
       "       [13050.70098355],\n",
       "       [ 8955.83253869],\n",
       "       [16051.37721691]])"
      ]
     },
     "execution_count": 16,
     "metadata": {},
     "output_type": "execute_result"
    }
   ],
   "source": [
    "regressor.predict(X_test)"
   ]
  },
  {
   "cell_type": "code",
   "execution_count": 17,
   "id": "2edbcf3e",
   "metadata": {},
   "outputs": [],
   "source": [
    "y_pred = regressor.predict(X_test)"
   ]
  },
  {
   "cell_type": "code",
   "execution_count": 18,
   "id": "1af5bd7f",
   "metadata": {},
   "outputs": [
    {
     "data": {
      "text/plain": [
       "0.07616372699805607"
      ]
     },
     "execution_count": 18,
     "metadata": {},
     "output_type": "execute_result"
    }
   ],
   "source": [
    "regressor.score(X_test, y_test)"
   ]
  },
  {
   "cell_type": "code",
   "execution_count": 19,
   "id": "bede8746",
   "metadata": {},
   "outputs": [
    {
     "data": {
      "text/html": [
       "<div>\n",
       "<style scoped>\n",
       "    .dataframe tbody tr th:only-of-type {\n",
       "        vertical-align: middle;\n",
       "    }\n",
       "\n",
       "    .dataframe tbody tr th {\n",
       "        vertical-align: top;\n",
       "    }\n",
       "\n",
       "    .dataframe thead th {\n",
       "        text-align: right;\n",
       "    }\n",
       "</style>\n",
       "<table border=\"1\" class=\"dataframe\">\n",
       "  <thead>\n",
       "    <tr style=\"text-align: right;\">\n",
       "      <th></th>\n",
       "      <th>Actual</th>\n",
       "      <th>Predict</th>\n",
       "    </tr>\n",
       "  </thead>\n",
       "  <tbody>\n",
       "    <tr>\n",
       "      <th>0</th>\n",
       "      <td>7281.50560</td>\n",
       "      <td>12586.741787</td>\n",
       "    </tr>\n",
       "    <tr>\n",
       "      <th>1</th>\n",
       "      <td>5267.81815</td>\n",
       "      <td>10838.018260</td>\n",
       "    </tr>\n",
       "    <tr>\n",
       "      <th>2</th>\n",
       "      <td>12347.17200</td>\n",
       "      <td>20638.384634</td>\n",
       "    </tr>\n",
       "    <tr>\n",
       "      <th>3</th>\n",
       "      <td>24513.09126</td>\n",
       "      <td>16619.705551</td>\n",
       "    </tr>\n",
       "    <tr>\n",
       "      <th>4</th>\n",
       "      <td>3736.46470</td>\n",
       "      <td>8751.578940</td>\n",
       "    </tr>\n",
       "    <tr>\n",
       "      <th>5</th>\n",
       "      <td>7358.17565</td>\n",
       "      <td>14150.589701</td>\n",
       "    </tr>\n",
       "    <tr>\n",
       "      <th>6</th>\n",
       "      <td>9788.86590</td>\n",
       "      <td>14255.703406</td>\n",
       "    </tr>\n",
       "    <tr>\n",
       "      <th>7</th>\n",
       "      <td>17085.26760</td>\n",
       "      <td>7124.825005</td>\n",
       "    </tr>\n",
       "    <tr>\n",
       "      <th>8</th>\n",
       "      <td>8211.10020</td>\n",
       "      <td>12687.421376</td>\n",
       "    </tr>\n",
       "    <tr>\n",
       "      <th>9</th>\n",
       "      <td>19798.05455</td>\n",
       "      <td>11078.886907</td>\n",
       "    </tr>\n",
       "  </tbody>\n",
       "</table>\n",
       "</div>"
      ],
      "text/plain": [
       "        Actual       Predict\n",
       "0   7281.50560  12586.741787\n",
       "1   5267.81815  10838.018260\n",
       "2  12347.17200  20638.384634\n",
       "3  24513.09126  16619.705551\n",
       "4   3736.46470   8751.578940\n",
       "5   7358.17565  14150.589701\n",
       "6   9788.86590  14255.703406\n",
       "7  17085.26760   7124.825005\n",
       "8   8211.10020  12687.421376\n",
       "9  19798.05455  11078.886907"
      ]
     },
     "execution_count": 19,
     "metadata": {},
     "output_type": "execute_result"
    }
   ],
   "source": [
    "y_predict = regressor.predict(X_test)\n",
    "\n",
    "evaluate = pd.DataFrame({'Actual': y_test.values.flatten(), 'Predict': y_predict.flatten()})\n",
    "evaluate.head(10)"
   ]
  },
  {
   "cell_type": "code",
   "execution_count": 27,
   "id": "35dae672",
   "metadata": {},
   "outputs": [
    {
     "data": {
      "text/plain": [
       "<AxesSubplot:>"
      ]
     },
     "execution_count": 27,
     "metadata": {},
     "output_type": "execute_result"
    },
    {
     "data": {
      "image/png": "[encoded data removed]",
      "text/plain": [
       "<Figure size 432x288 with 1 Axes>"
      ]
     },
     "metadata": {
      "needs_background": "light"
     },
     "output_type": "display_data"
    }
   ],
   "source": [
    "evaluate.head(10).plot(kind=\"bar\")"
   ]
  },
  {
   "cell_type": "code",
   "execution_count": 28,
   "id": "d28d0af8",
   "metadata": {},
   "outputs": [],
   "source": [
    "## Membuat Gradio"
   ]
  },
  {
   "cell_type": "code",
   "execution_count": 30,
   "id": "df5b52c0",
   "metadata": {},
   "outputs": [
    {
     "name": "stdout",
     "output_type": "stream",
     "text": [
      "Requirement already satisfied: gradio in c:\\users\\user\\appdata\\local\\programs\\python\\python310\\lib\\site-packages (3.0.5)\n",
      "Requirement already satisfied: analytics-python in c:\\users\\user\\appdata\\local\\programs\\python\\python310\\lib\\site-packages (from gradio) (1.4.0)\n",
      "Requirement already satisfied: ffmpy in c:\\users\\user\\appdata\\local\\programs\\python\\python310\\lib\\site-packages (from gradio) (0.3.0)\n",
      "Requirement already satisfied: aiohttp in c:\\users\\user\\appdata\\local\\programs\\python\\python310\\lib\\site-packages (from gradio) (3.8.1)\n",
      "Requirement already satisfied: orjson in c:\\users\\user\\appdata\\local\\programs\\python\\python310\\lib\\site-packages (from gradio) (3.6.8)\n",
      "Requirement already satisfied: pandas in c:\\users\\user\\appdata\\local\\programs\\python\\python310\\lib\\site-packages (from gradio) (1.4.2)\n",
      "Requirement already satisfied: Jinja2 in c:\\users\\user\\appdata\\local\\programs\\python\\python310\\lib\\site-packages (from gradio) (3.1.1)\n",
      "Requirement already satisfied: pycryptodome in c:\\users\\user\\appdata\\local\\programs\\python\\python310\\lib\\site-packages (from gradio) (3.14.1)\n",
      "Requirement already satisfied: fastapi in c:\\users\\user\\appdata\\local\\programs\\python\\python310\\lib\\site-packages (from gradio) (0.78.0)\n",
      "Requirement already satisfied: requests in c:\\users\\user\\appdata\\local\\programs\\python\\python310\\lib\\site-packages (from gradio) (2.27.1)\n",
      "Requirement already satisfied: python-multipart in c:\\users\\user\\appdata\\local\\programs\\python\\python310\\lib\\site-packages (from gradio) (0.0.5)\n",
      "Requirement already satisfied: markdown-it-py[linkify,plugins] in c:\\users\\user\\appdata\\local\\programs\\python\\python310\\lib\\site-packages (from gradio) (2.1.0)\n",
      "Requirement already satisfied: uvicorn in c:\\users\\user\\appdata\\local\\programs\\python\\python310\\lib\\site-packages (from gradio) (0.17.6)\n",
      "Requirement already satisfied: pillow in c:\\users\\user\\appdata\\local\\programs\\python\\python310\\lib\\site-packages (from gradio) (9.1.0)\n",
      "Requirement already satisfied: matplotlib in c:\\users\\user\\appdata\\local\\programs\\python\\python310\\lib\\site-packages (from gradio) (3.5.2)\n",
      "Requirement already satisfied: numpy in c:\\users\\user\\appdata\\local\\programs\\python\\python310\\lib\\site-packages (from gradio) (1.22.3)\n",
      "Requirement already satisfied: pydub in c:\\users\\user\\appdata\\local\\programs\\python\\python310\\lib\\site-packages (from gradio) (0.25.1)\n",
      "Requirement already satisfied: paramiko in c:\\users\\user\\appdata\\local\\programs\\python\\python310\\lib\\site-packages (from gradio) (2.11.0)\n",
      "Requirement already satisfied: charset-normalizer<3.0,>=2.0 in c:\\users\\user\\appdata\\local\\programs\\python\\python310\\lib\\site-packages (from aiohttp->gradio) (2.0.12)\n",
      "Requirement already satisfied: async-timeout<5.0,>=4.0.0a3 in c:\\users\\user\\appdata\\local\\programs\\python\\python310\\lib\\site-packages (from aiohttp->gradio) (4.0.2)\n",
      "Requirement already satisfied: frozenlist>=1.1.1 in c:\\users\\user\\appdata\\local\\programs\\python\\python310\\lib\\site-packages (from aiohttp->gradio) (1.3.0)\n",
      "Requirement already satisfied: yarl<2.0,>=1.0 in c:\\users\\user\\appdata\\local\\programs\\python\\python310\\lib\\site-packages (from aiohttp->gradio) (1.7.2)\n",
      "Requirement already satisfied: aiosignal>=1.1.2 in c:\\users\\user\\appdata\\local\\programs\\python\\python310\\lib\\site-packages (from aiohttp->gradio) (1.2.0)\n",
      "Requirement already satisfied: multidict<7.0,>=4.5 in c:\\users\\user\\appdata\\local\\programs\\python\\python310\\lib\\site-packages (from aiohttp->gradio) (6.0.2)\n",
      "Requirement already satisfied: attrs>=17.3.0 in c:\\users\\user\\appdata\\local\\programs\\python\\python310\\lib\\site-packages (from aiohttp->gradio) (21.4.0)\n",
      "Requirement already satisfied: six>=1.5 in c:\\users\\user\\appdata\\local\\programs\\python\\python310\\lib\\site-packages (from analytics-python->gradio) (1.16.0)\n",
      "Requirement already satisfied: backoff==1.10.0 in c:\\users\\user\\appdata\\local\\programs\\python\\python310\\lib\\site-packages (from analytics-python->gradio) (1.10.0)\n",
      "Requirement already satisfied: monotonic>=1.5 in c:\\users\\user\\appdata\\local\\programs\\python\\python310\\lib\\site-packages (from analytics-python->gradio) (1.6)\n",
      "Requirement already satisfied: python-dateutil>2.1 in c:\\users\\user\\appdata\\local\\programs\\python\\python310\\lib\\site-packages (from analytics-python->gradio) (2.8.2)\n",
      "Requirement already satisfied: idna<4,>=2.5 in c:\\users\\user\\appdata\\local\\programs\\python\\python310\\lib\\site-packages (from requests->gradio) (3.3)\n",
      "Requirement already satisfied: certifi>=2017.4.17 in c:\\users\\user\\appdata\\local\\programs\\python\\python310\\lib\\site-packages (from requests->gradio) (2021.10.8)\n",
      "Requirement already satisfied: urllib3<1.27,>=1.21.1 in c:\\users\\user\\appdata\\local\\programs\\python\\python310\\lib\\site-packages (from requests->gradio) (1.26.9)\n",
      "Requirement already satisfied: starlette==0.19.1 in c:\\users\\user\\appdata\\local\\programs\\python\\python310\\lib\\site-packages (from fastapi->gradio) (0.19.1)\n",
      "Requirement already satisfied: pydantic!=1.7,!=1.7.1,!=1.7.2,!=1.7.3,!=1.8,!=1.8.1,<2.0.0,>=1.6.2 in c:\\users\\user\\appdata\\local\\programs\\python\\python310\\lib\\site-packages (from fastapi->gradio) (1.9.1)\n",
      "Requirement already satisfied: anyio<5,>=3.4.0 in c:\\users\\user\\appdata\\local\\programs\\python\\python310\\lib\\site-packages (from starlette==0.19.1->fastapi->gradio) (3.6.1)\n",
      "Requirement already satisfied: MarkupSafe>=2.0 in c:\\users\\user\\appdata\\local\\programs\\python\\python310\\lib\\site-packages (from Jinja2->gradio) (2.1.1)\n",
      "Requirement already satisfied: mdurl~=0.1 in c:\\users\\user\\appdata\\local\\programs\\python\\python310\\lib\\site-packages (from markdown-it-py[linkify,plugins]->gradio) (0.1.1)\n",
      "Requirement already satisfied: linkify-it-py~=1.0 in c:\\users\\user\\appdata\\local\\programs\\python\\python310\\lib\\site-packages (from markdown-it-py[linkify,plugins]->gradio) (1.0.3)\n",
      "Requirement already satisfied: mdit-py-plugins in c:\\users\\user\\appdata\\local\\programs\\python\\python310\\lib\\site-packages (from markdown-it-py[linkify,plugins]->gradio) (0.3.0)\n",
      "Requirement already satisfied: cycler>=0.10 in c:\\users\\user\\appdata\\local\\programs\\python\\python310\\lib\\site-packages (from matplotlib->gradio) (0.11.0)\n",
      "Requirement already satisfied: fonttools>=4.22.0 in c:\\users\\user\\appdata\\local\\programs\\python\\python310\\lib\\site-packages (from matplotlib->gradio) (4.33.3)\n",
      "Requirement already satisfied: packaging>=20.0 in c:\\users\\user\\appdata\\local\\programs\\python\\python310\\lib\\site-packages (from matplotlib->gradio) (21.3)\n",
      "Requirement already satisfied: kiwisolver>=1.0.1 in c:\\users\\user\\appdata\\local\\programs\\python\\python310\\lib\\site-packages (from matplotlib->gradio) (1.4.2)\n",
      "Requirement already satisfied: pyparsing>=2.2.1 in c:\\users\\user\\appdata\\local\\programs\\python\\python310\\lib\\site-packages (from matplotlib->gradio) (3.0.7)\n",
      "Requirement already satisfied: pytz>=2020.1 in c:\\users\\user\\appdata\\local\\programs\\python\\python310\\lib\\site-packages (from pandas->gradio) (2022.1)\n",
      "Requirement already satisfied: cryptography>=2.5 in c:\\users\\user\\appdata\\local\\programs\\python\\python310\\lib\\site-packages (from paramiko->gradio) (37.0.2)\n",
      "Requirement already satisfied: pynacl>=1.0.1 in c:\\users\\user\\appdata\\local\\programs\\python\\python310\\lib\\site-packages (from paramiko->gradio) (1.5.0)\n",
      "Requirement already satisfied: bcrypt>=3.1.3 in c:\\users\\user\\appdata\\local\\programs\\python\\python310\\lib\\site-packages (from paramiko->gradio) (3.2.2)\n",
      "Requirement already satisfied: asgiref>=3.4.0 in c:\\users\\user\\appdata\\local\\programs\\python\\python310\\lib\\site-packages (from uvicorn->gradio) (3.5.2)\n",
      "Requirement already satisfied: click>=7.0 in c:\\users\\user\\appdata\\local\\programs\\python\\python310\\lib\\site-packages (from uvicorn->gradio) (8.1.3)\n",
      "Requirement already satisfied: h11>=0.8 in c:\\users\\user\\appdata\\local\\programs\\python\\python310\\lib\\site-packages (from uvicorn->gradio) (0.13.0)\n",
      "Requirement already satisfied: cffi>=1.1 in c:\\users\\user\\appdata\\local\\programs\\python\\python310\\lib\\site-packages (from bcrypt>=3.1.3->paramiko->gradio) (1.15.0)\n",
      "Requirement already satisfied: colorama in c:\\users\\user\\appdata\\local\\programs\\python\\python310\\lib\\site-packages (from click>=7.0->uvicorn->gradio) (0.4.4)\n",
      "Requirement already satisfied: uc-micro-py in c:\\users\\user\\appdata\\local\\programs\\python\\python310\\lib\\site-packages (from linkify-it-py~=1.0->markdown-it-py[linkify,plugins]->gradio) (1.0.1)\n",
      "Requirement already satisfied: typing-extensions>=3.7.4.3 in c:\\users\\user\\appdata\\local\\programs\\python\\python310\\lib\\site-packages (from pydantic!=1.7,!=1.7.1,!=1.7.2,!=1.7.3,!=1.8,!=1.8.1,<2.0.0,>=1.6.2->fastapi->gradio) (4.2.0)\n",
      "Requirement already satisfied: sniffio>=1.1 in c:\\users\\user\\appdata\\local\\programs\\python\\python310\\lib\\site-packages (from anyio<5,>=3.4.0->starlette==0.19.1->fastapi->gradio) (1.2.0)\n",
      "Requirement already satisfied: pycparser in c:\\users\\user\\appdata\\local\\programs\\python\\python310\\lib\\site-packages (from cffi>=1.1->bcrypt>=3.1.3->paramiko->gradio) (2.21)\n",
      "Note: you may need to restart the kernel to use updated packages.\n"
     ]
    },
    {
     "name": "stderr",
     "output_type": "stream",
     "text": [
      "WARNING: There was an error checking the latest version of pip.\n"
     ]
    }
   ],
   "source": [
    "pip install gradio"
   ]
  },
  {
   "cell_type": "code",
   "execution_count": 31,
   "id": "58c87c77",
   "metadata": {},
   "outputs": [
    {
     "name": "stderr",
     "output_type": "stream",
     "text": [
      "C:\\Users\\User\\AppData\\Local\\Programs\\Python\\Python310\\lib\\site-packages\\gradio\\deprecation.py:43: UserWarning: You have unused kwarg parameters in Number, please remove them: {'labels': 'age'}\n",
      "  warnings.warn(\n",
      "C:\\Users\\User\\AppData\\Local\\Programs\\Python\\Python310\\lib\\site-packages\\gradio\\deprecation.py:43: UserWarning: You have unused kwarg parameters in Number, please remove them: {'labels': 'bmi'}\n",
      "  warnings.warn(\n",
      "C:\\Users\\User\\AppData\\Local\\Programs\\Python\\Python310\\lib\\site-packages\\gradio\\deprecation.py:43: UserWarning: You have unused kwarg parameters in Number, please remove them: {'labels': 'children'}\n",
      "  warnings.warn(\n"
     ]
    },
    {
     "name": "stdout",
     "output_type": "stream",
     "text": [
      "Running on local URL:  http://127.0.0.1:7860/\n",
      "\n",
      "To create a public link, set `share=True` in `launch()`.\n"
     ]
    },
    {
     "data": {
      "text/html": [
       "\n",
       "        <iframe\n",
       "            width=\"900\"\n",
       "            height=\"500\"\n",
       "            src=\"http://127.0.0.1:7860/\"\n",
       "            frameborder=\"0\"\n",
       "            allowfullscreen\n",
       "            \n",
       "        ></iframe>\n",
       "        "
      ],
      "text/plain": [
       "<IPython.lib.display.IFrame at 0x1ac956588e0>"
      ]
     },
     "metadata": {},
     "output_type": "display_data"
    },
    {
     "data": {
      "text/plain": [
       "(<gradio.routes.App at 0x1ac9565b940>, 'http://127.0.0.1:7860/', None)"
      ]
     },
     "execution_count": 31,
     "metadata": {},
     "output_type": "execute_result"
    },
    {
     "name": "stderr",
     "output_type": "stream",
     "text": [
      "C:\\Users\\User\\AppData\\Local\\Programs\\Python\\Python310\\lib\\site-packages\\sklearn\\base.py:450: UserWarning: X does not have valid feature names, but LinearRegression was fitted with feature names\n",
      "  warnings.warn(\n"
     ]
    }
   ],
   "source": [
    "import gradio as gr\n",
    "\n",
    "def predict(age, bmi, children):\n",
    "  return regressor.predict([[age, bmi, children]])\n",
    "\n",
    "demo = gr.Interface(predict, [gr.Number(labels=\"age\"), gr.Number(labels=\"bmi\"), gr.Number(labels=\"children\")],\n",
    "                    gr.Number())\n",
    "\n",
    "demo.launch()"
   ]
  }
 ],
 "metadata": {
  "kernelspec": {
   "display_name": "Python 3 (ipykernel)",
   "language": "python",
   "name": "python3"
  },
  "language_info": {
   "codemirror_mode": {
    "name": "ipython",
    "version": 3
   },
   "file_extension": ".py",
   "mimetype": "text/x-python",
   "name": "python",
   "nbconvert_exporter": "python",
   "pygments_lexer": "ipython3",
   "version": "3.10.3"
  }
 },
 "nbformat": 4,
 "nbformat_minor": 5
}
